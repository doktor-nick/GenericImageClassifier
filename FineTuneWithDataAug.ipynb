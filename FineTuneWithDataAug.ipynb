{
 "cells": [
  {
   "cell_type": "code",
   "execution_count": 1,
   "metadata": {},
   "outputs": [
    {
     "name": "stdout",
     "output_type": "stream",
     "text": [
      "1 Physical GPUs, 1 Logical GPUs\n",
      "Num GPUs Available:  1\n",
      "Tensorflow version:  2.1.0\n"
     ]
    }
   ],
   "source": [
    "import tensorflow as tf\n",
    "\n",
    "gpus = tf.config.experimental.list_physical_devices('GPU')\n",
    "\n",
    "if gpus:\n",
    "    try:\n",
    "        # Currently, memory growth needs to be the same across GPUs\n",
    "        for gpu in gpus:\n",
    "            tf.config.experimental.set_memory_growth(gpu, True)\n",
    "        logical_gpus = tf.config.experimental.list_logical_devices('GPU')\n",
    "        print(len(gpus), \"Physical GPUs,\", len(logical_gpus), \"Logical GPUs\")\n",
    "    except RuntimeError as e:\n",
    "        # Memory growth must be set before GPUs have been initialized\n",
    "        print(e)\n",
    "    \n",
    "print(\"Num GPUs Available: \", len(tf.config.experimental.list_physical_devices('GPU')))\n",
    "print(\"Tensorflow version: \",tf.__version__)"
   ]
  },
  {
   "cell_type": "code",
   "execution_count": null,
   "metadata": {},
   "outputs": [],
   "source": []
  },
  {
   "cell_type": "code",
   "execution_count": 2,
   "metadata": {},
   "outputs": [],
   "source": [
    "import os,shutil\n",
    "\n",
    "# some parameters to set\n",
    "# defaults should be ok for many situations\n",
    "\n",
    "# if interative == 1 some plots of the train/validation accuraccies will be given\n",
    "interactive = 1\n",
    "\n",
    "# images get resized to these dimensions on import\n",
    "dx=128 # you may want to consider the aspect ratio here,\n",
    "dy=128 # and how much detail might be lost by scaling down\n",
    "# also the \"natural\" size for the VGG16 net used here is 224x224\n",
    "\n",
    "# source directory should have the source images in organised into subdirectories, one per image class\n",
    "# e.g.   source_dir had subdirectories named: rabbits, currawongs, curlews, each of which has images of\n",
    "# rabbits, currawongs and curlews in.\n",
    "source_dir = './CellSourceImages'\n",
    "\n",
    "# where the train/valid/test sets will be created\n",
    "base_dir = \"./CellTrainTestSplit\"\n",
    "\n",
    "# create (1) a train/valid/test split, or use previous split (0). Will delete old split if there is one there\n",
    "new_datasplit = 1\n",
    "\n",
    "# percentage of images to use in training, validation and testing. Should add up to 100!\n",
    "train_split = 80 \n",
    "valid_split = 10\n",
    "test_split = 10\n",
    "\n",
    "# training set and validation batch sizes\n",
    "train_batch_size = 20\n",
    "valid_batch_size = 50\n",
    "\n",
    "# number of epochs to train for\n",
    "num_epochs = 50\n",
    "\n",
    "# If you have a set of images in a directory that you want to predict on after a classifier has been created,\n",
    "# set the directory path here. Or set to '' if none.\n",
    "#predictdir = '' \n",
    "predictdir = os.path.join(base_dir, 'test')\n",
    "\n",
    "\n",
    "# with (1) or without (0) data augementation\n",
    "# i.e. apply shears/zooms/rotations etc to expand training set\n",
    "data_aug = 1\n",
    "\n",
    "# whether (1) or not (0) to fine tune the pre-trained VGG16 network which is being used here for transfer learning\n",
    "fine_tune = 1\n",
    "\n",
    "# where to put the log files that can be read by tensorboard\n",
    "log_dir = 'tensor_logs_test'\n",
    "\n",
    "# size to resize input image to\n",
    "target_size = (dx,dy) \n",
    "\n",
    "# name of the file to save model to once trained\n",
    "model_name = 'model_trained.h5';\n",
    "\n",
    "# if overfitting, the number of nodes in last dense layer (default num_dense = 256) could be reduced. \n",
    "#     Or increase training set size\n",
    "num_dense = 24\n",
    "\n",
    "# Other parameters you might like to optimise if it doesn't learn so well:\n",
    "# - The learning rate below in \n",
    "#      optimizers.RMSprop(lr=1e-5)"
   ]
  },
  {
   "cell_type": "code",
   "execution_count": null,
   "metadata": {},
   "outputs": [],
   "source": []
  },
  {
   "cell_type": "code",
   "execution_count": 3,
   "metadata": {},
   "outputs": [
    {
     "name": "stdout",
     "output_type": "stream",
     "text": [
      "Found datasets: \n",
      "['PM', 'lysosome', 'mitochondria', 'peroxisome', 'cytoskeleton', 'ER', 'nucleus', 'golgi']\n",
      "Number of image classes is 8\n"
     ]
    }
   ],
   "source": [
    "# Organise images in directory with one subdirectory per image class\n",
    "# into a new directory with train/validation/test sets in the new directory \n",
    "\n",
    "import numpy as np\n",
    "from random import shuffle\n",
    "\n",
    "train_dir = os.path.join(base_dir, 'train')\n",
    "valid_dir = os.path.join(base_dir, 'valid')\n",
    "test_dir = os.path.join(base_dir, 'test')\n",
    "\n",
    "dirs = os.listdir(source_dir)\n",
    "\n",
    "print(\"Found datasets: \")\n",
    "print(dirs)\n",
    "\n",
    "nclasses = len(dirs)\n",
    "print('Number of image classes is '+str(nclasses))"
   ]
  },
  {
   "cell_type": "code",
   "execution_count": 4,
   "metadata": {},
   "outputs": [
    {
     "name": "stdout",
     "output_type": "stream",
     "text": [
      "Using train/valid/test data split from directory:\n",
      "./CellTrainTestSplit\n"
     ]
    }
   ],
   "source": [
    "# split/recreate the dataset train/valid/test split\n",
    "# note, it will overright previous data splits \n",
    "\n",
    "if new_datasplit == 1:\n",
    "    print(\"Creating new train/valid/test data split in directory:\")\n",
    "    print(base_dir)\n",
    "    if os.path.isdir(base_dir): \n",
    "        shutil.rmtree(base_dir) # delete any old train/valid/test splits\n",
    "\n",
    "    os.mkdir(base_dir)\n",
    "    os.mkdir(train_dir)\n",
    "    os.mkdir(valid_dir)\n",
    "    os.mkdir(test_dir)\n",
    "\n",
    "    for dir in dirs:\n",
    "\n",
    "        dir_train = os.path.join(train_dir,dir)\n",
    "        dir_test = os.path.join(test_dir,dir)\n",
    "        dir_valid = os.path.join(valid_dir,dir)\n",
    "\n",
    "        os.mkdir(dir_train)\n",
    "        os.mkdir(dir_test)\n",
    "        os.mkdir(dir_valid)\n",
    "\n",
    "        src_images = os.listdir(os.path.join(source_dir,dir))\n",
    "        shuffle(src_images)\n",
    "    \n",
    "        nimages = len(src_images)\n",
    "        train_list = src_images[0:int(nimages*train_split/100)]\n",
    "        valid_list = src_images[int(nimages*train_split/100):int(nimages*(train_split+valid_split)/100)]\n",
    "        test_list = src_images[int(nimages*(train_split+valid_split)/100):]\n",
    "    \n",
    "        for fname in train_list:\n",
    "            src = os.path.join(source_dir, dir, fname)\n",
    "            dst = os.path.join(base_dir, 'train', dir, fname)\n",
    "            shutil.copyfile(src, dst)\n",
    "\n",
    "        for fname in valid_list:\n",
    "            src = os.path.join(source_dir, dir, fname)\n",
    "            dst = os.path.join(base_dir, 'valid', dir, fname)\n",
    "            shutil.copyfile(src, dst)\n",
    "        \n",
    "        for fname in test_list:\n",
    "            src = os.path.join(source_dir, dir, fname)\n",
    "            dst = os.path.join(base_dir, 'test', dir, fname)\n",
    "            shutil.copyfile(src, dst)\n",
    "else:\n",
    "    print(\"Using train/valid/test data split from directory:\")\n",
    "    print(base_dir)    "
   ]
  },
  {
   "cell_type": "code",
   "execution_count": null,
   "metadata": {},
   "outputs": [],
   "source": []
  },
  {
   "cell_type": "code",
   "execution_count": 5,
   "metadata": {
    "scrolled": true
   },
   "outputs": [],
   "source": [
    "# Use the VGG16 pretrained CNN as a starting point which will later be fine tuned if fine_tune=1 is set.\n",
    "\n",
    "from tensorflow.keras.applications import VGG16\n",
    "\n",
    "conv_base = VGG16(weights='imagenet',\n",
    "    include_top=False,\n",
    "    input_shape=(dx,dy,3)) \n",
    "# note: input_shape is optional as VGG16 can have arbitrary input shapes\n",
    "# but scaling down is probable better computationally in most cases\n",
    "# the \"natural\" image size of vgg16 is 224x224, FWIW\n",
    "\n",
    "\n",
    "from tensorflow.keras import models\n",
    "from tensorflow.keras import layers\n",
    "\n",
    "model = models.Sequential()\n",
    "model.add(conv_base)\n",
    "model.add(layers.Flatten())\n",
    "model.add(layers.Dense(num_dense, activation='relu')) # try reducing this number (256) if overfitting\n",
    "model.add(layers.Dense(nclasses, activation='softmax')) "
   ]
  },
  {
   "cell_type": "code",
   "execution_count": 6,
   "metadata": {},
   "outputs": [
    {
     "name": "stdout",
     "output_type": "stream",
     "text": [
      "Model: \"sequential\"\n",
      "_________________________________________________________________\n",
      "Layer (type)                 Output Shape              Param #   \n",
      "=================================================================\n",
      "vgg16 (Model)                (None, 4, 4, 512)         14714688  \n",
      "_________________________________________________________________\n",
      "flatten (Flatten)            (None, 8192)              0         \n",
      "_________________________________________________________________\n",
      "dense (Dense)                (None, 24)                196632    \n",
      "_________________________________________________________________\n",
      "dense_1 (Dense)              (None, 8)                 200       \n",
      "=================================================================\n",
      "Total params: 14,911,520\n",
      "Trainable params: 14,911,520\n",
      "Non-trainable params: 0\n",
      "_________________________________________________________________\n",
      "Model: \"vgg16\"\n",
      "_________________________________________________________________\n",
      "Layer (type)                 Output Shape              Param #   \n",
      "=================================================================\n",
      "input_1 (InputLayer)         [(None, 128, 128, 3)]     0         \n",
      "_________________________________________________________________\n",
      "block1_conv1 (Conv2D)        (None, 128, 128, 64)      1792      \n",
      "_________________________________________________________________\n",
      "block1_conv2 (Conv2D)        (None, 128, 128, 64)      36928     \n",
      "_________________________________________________________________\n",
      "block1_pool (MaxPooling2D)   (None, 64, 64, 64)        0         \n",
      "_________________________________________________________________\n",
      "block2_conv1 (Conv2D)        (None, 64, 64, 128)       73856     \n",
      "_________________________________________________________________\n",
      "block2_conv2 (Conv2D)        (None, 64, 64, 128)       147584    \n",
      "_________________________________________________________________\n",
      "block2_pool (MaxPooling2D)   (None, 32, 32, 128)       0         \n",
      "_________________________________________________________________\n",
      "block3_conv1 (Conv2D)        (None, 32, 32, 256)       295168    \n",
      "_________________________________________________________________\n",
      "block3_conv2 (Conv2D)        (None, 32, 32, 256)       590080    \n",
      "_________________________________________________________________\n",
      "block3_conv3 (Conv2D)        (None, 32, 32, 256)       590080    \n",
      "_________________________________________________________________\n",
      "block3_pool (MaxPooling2D)   (None, 16, 16, 256)       0         \n",
      "_________________________________________________________________\n",
      "block4_conv1 (Conv2D)        (None, 16, 16, 512)       1180160   \n",
      "_________________________________________________________________\n",
      "block4_conv2 (Conv2D)        (None, 16, 16, 512)       2359808   \n",
      "_________________________________________________________________\n",
      "block4_conv3 (Conv2D)        (None, 16, 16, 512)       2359808   \n",
      "_________________________________________________________________\n",
      "block4_pool (MaxPooling2D)   (None, 8, 8, 512)         0         \n",
      "_________________________________________________________________\n",
      "block5_conv1 (Conv2D)        (None, 8, 8, 512)         2359808   \n",
      "_________________________________________________________________\n",
      "block5_conv2 (Conv2D)        (None, 8, 8, 512)         2359808   \n",
      "_________________________________________________________________\n",
      "block5_conv3 (Conv2D)        (None, 8, 8, 512)         2359808   \n",
      "_________________________________________________________________\n",
      "block5_pool (MaxPooling2D)   (None, 4, 4, 512)         0         \n",
      "=================================================================\n",
      "Total params: 14,714,688\n",
      "Trainable params: 14,714,688\n",
      "Non-trainable params: 0\n",
      "_________________________________________________________________\n"
     ]
    }
   ],
   "source": [
    "model.summary()\n",
    "\n",
    "# to see the VGG16 structure:\n",
    "conv_base.summary()"
   ]
  },
  {
   "cell_type": "code",
   "execution_count": null,
   "metadata": {},
   "outputs": [],
   "source": []
  },
  {
   "cell_type": "code",
   "execution_count": 7,
   "metadata": {},
   "outputs": [
    {
     "name": "stdout",
     "output_type": "stream",
     "text": [
      "Using data augmentation.\n"
     ]
    }
   ],
   "source": [
    "# select without or with data augmentation\n",
    "from tensorflow.keras.preprocessing.image import ImageDataGenerator\n",
    "from tensorflow.keras import optimizers\n",
    "\n",
    "if data_aug == 0:\n",
    "    print(\"Not using data augmentation.\")\n",
    "    train_datagen = ImageDataGenerator(rescale=1./255)\n",
    "else:\n",
    "    # with data aug\n",
    "    print(\"Using data augmentation.\")\n",
    "    train_datagen = ImageDataGenerator(\n",
    "        rescale=1./255,\n",
    "        #rotation_range=40,\n",
    "        #width_shift_range=0.2,\n",
    "        #height_shift_range=0.2,\n",
    "        #shear_range=0.2,\n",
    "        #zoom_range=0.2,\n",
    "        horizontal_flip=True,\n",
    "        vertical_flip=True,\n",
    "        fill_mode='nearest')"
   ]
  },
  {
   "cell_type": "code",
   "execution_count": 8,
   "metadata": {},
   "outputs": [
    {
     "name": "stdout",
     "output_type": "stream",
     "text": [
      "Training dataset:\n",
      "Found 667 images belonging to 8 classes.\n"
     ]
    }
   ],
   "source": [
    "print(\"Training dataset:\")\n",
    "train_generator = train_datagen.flow_from_directory(\n",
    "    train_dir,\n",
    "    target_size=target_size,\n",
    "    batch_size=train_batch_size,\n",
    "    shuffle=True,\n",
    "    class_mode='categorical')"
   ]
  },
  {
   "cell_type": "code",
   "execution_count": null,
   "metadata": {},
   "outputs": [],
   "source": []
  },
  {
   "cell_type": "code",
   "execution_count": 9,
   "metadata": {},
   "outputs": [
    {
     "name": "stdout",
     "output_type": "stream",
     "text": [
      "Validation dataset:\n",
      "Found 84 images belonging to 8 classes.\n"
     ]
    }
   ],
   "source": [
    "print(\"Validation dataset:\")\n",
    "\n",
    "valid_datagen = ImageDataGenerator(rescale=1./255)\n",
    "\n",
    "validation_generator = valid_datagen.flow_from_directory(\n",
    "    valid_dir,\n",
    "    target_size=target_size,\n",
    "    batch_size=valid_batch_size,\n",
    "    class_mode='categorical')"
   ]
  },
  {
   "cell_type": "code",
   "execution_count": null,
   "metadata": {},
   "outputs": [],
   "source": []
  },
  {
   "cell_type": "code",
   "execution_count": 10,
   "metadata": {},
   "outputs": [
    {
     "name": "stdout",
     "output_type": "stream",
     "text": [
      "Will fine tune the VGG16 model.\n"
     ]
    }
   ],
   "source": [
    "# now set up fine tuning tune\n",
    "if fine_tune == 1:\n",
    "    print(\"Will fine tune the VGG16 model.\")\n",
    "    conv_base.trainable = True\n",
    "    set_trainable = False\n",
    "    for layer in conv_base.layers:\n",
    "        if layer.name == 'block5_conv1':\n",
    "            set_trainable = True\n",
    "        if set_trainable:\n",
    "            layer.trainable = True\n",
    "        else:\n",
    "            layer.trainable = False\n",
    "else:\n",
    "    print(\"Will not fine tune the VGG16 model.\")\n",
    "    conv_base.trainable = False\n",
    "    "
   ]
  },
  {
   "cell_type": "code",
   "execution_count": 11,
   "metadata": {},
   "outputs": [],
   "source": [
    "model.compile(loss='categorical_crossentropy',\n",
    "    optimizer=optimizers.RMSprop(lr=1e-5),\n",
    "    metrics=['acc'])"
   ]
  },
  {
   "cell_type": "code",
   "execution_count": 12,
   "metadata": {},
   "outputs": [],
   "source": [
    "# set up some stuff for tensorboard\n",
    "import tensorflow.keras\n",
    "callbacks = [\n",
    "    tensorflow.keras.callbacks.TensorBoard(\n",
    "    log_dir=log_dir, \n",
    "    )\n",
    "]\n",
    "# later run tensorboard on command line with :\n",
    "# tensorboard --logdir='tensor_logs'\n",
    "# where tensor_logs is the directory chosen for the log files"
   ]
  },
  {
   "cell_type": "code",
   "execution_count": 13,
   "metadata": {},
   "outputs": [
    {
     "name": "stdout",
     "output_type": "stream",
     "text": [
      "/home/nick/anaconda3/envs/tf2/lib/python3.6/site-packages/PIL/Image.py\n",
      "/home/nick/anaconda3/envs/tf2/lib/python3.6/site-packages/PIL/Image.py\n"
     ]
    }
   ],
   "source": [
    "# we need some image libraries\n",
    "\n",
    "from IPython.display import display, Image\n",
    "import sys\n",
    "from PIL import Image\n",
    "sys.modules['Image'] = Image \n",
    "from PIL import Image\n",
    "print(Image.__file__)\n",
    "import Image\n",
    "print(Image.__file__)"
   ]
  },
  {
   "cell_type": "code",
   "execution_count": 14,
   "metadata": {
    "scrolled": true
   },
   "outputs": [
    {
     "name": "stdout",
     "output_type": "stream",
     "text": [
      "WARNING:tensorflow:From <ipython-input-14-69b19336db8e>:10: Model.fit_generator (from tensorflow.python.keras.engine.training) is deprecated and will be removed in a future version.\n",
      "Instructions for updating:\n",
      "Please use Model.fit, which supports generators.\n",
      "WARNING:tensorflow:sample_weight modes were coerced from\n",
      "  ...\n",
      "    to  \n",
      "  ['...']\n",
      "WARNING:tensorflow:sample_weight modes were coerced from\n",
      "  ...\n",
      "    to  \n",
      "  ['...']\n",
      "Train for 10 steps, validate for 1 steps\n",
      "Epoch 1/50\n",
      "10/10 [==============================] - 7s 742ms/step - loss: 2.0139 - acc: 0.1900 - val_loss: 1.8605 - val_acc: 0.3600\n",
      "Epoch 2/50\n",
      "10/10 [==============================] - 1s 119ms/step - loss: 1.6947 - acc: 0.4800 - val_loss: 1.6249 - val_acc: 0.6200\n",
      "Epoch 3/50\n",
      "10/10 [==============================] - 3s 261ms/step - loss: 1.4778 - acc: 0.6203 - val_loss: 1.4251 - val_acc: 0.6600\n",
      "Epoch 4/50\n",
      "10/10 [==============================] - 1s 114ms/step - loss: 1.2459 - acc: 0.6631 - val_loss: 1.2484 - val_acc: 0.7000\n",
      "Epoch 5/50\n",
      "10/10 [==============================] - 1s 121ms/step - loss: 1.0703 - acc: 0.7150 - val_loss: 1.1206 - val_acc: 0.6800\n",
      "Epoch 6/50\n",
      "10/10 [==============================] - 1s 119ms/step - loss: 1.0296 - acc: 0.7000 - val_loss: 1.0257 - val_acc: 0.7200\n",
      "Epoch 7/50\n",
      "10/10 [==============================] - 1s 121ms/step - loss: 0.8734 - acc: 0.7500 - val_loss: 0.9538 - val_acc: 0.7200\n",
      "Epoch 8/50\n",
      "10/10 [==============================] - 1s 119ms/step - loss: 0.8009 - acc: 0.7650 - val_loss: 0.8646 - val_acc: 0.7600\n",
      "Epoch 9/50\n",
      "10/10 [==============================] - 1s 120ms/step - loss: 0.6880 - acc: 0.7900 - val_loss: 0.7926 - val_acc: 0.7800\n",
      "Epoch 10/50\n",
      "10/10 [==============================] - 1s 120ms/step - loss: 0.6124 - acc: 0.8350 - val_loss: 0.7290 - val_acc: 0.8400\n",
      "Epoch 11/50\n",
      "10/10 [==============================] - 1s 121ms/step - loss: 0.6067 - acc: 0.8800 - val_loss: 0.6775 - val_acc: 0.8400\n",
      "Epoch 12/50\n",
      "10/10 [==============================] - 1s 120ms/step - loss: 0.6009 - acc: 0.8350 - val_loss: 0.6032 - val_acc: 0.8600\n",
      "Epoch 13/50\n",
      "10/10 [==============================] - 1s 120ms/step - loss: 0.5149 - acc: 0.9050 - val_loss: 0.5759 - val_acc: 0.8400\n",
      "Epoch 14/50\n",
      "10/10 [==============================] - 1s 123ms/step - loss: 0.4629 - acc: 0.8700 - val_loss: 0.5723 - val_acc: 0.8600\n",
      "Epoch 15/50\n",
      "10/10 [==============================] - 1s 119ms/step - loss: 0.4672 - acc: 0.8800 - val_loss: 0.5002 - val_acc: 0.8800\n",
      "Epoch 16/50\n",
      "10/10 [==============================] - 1s 117ms/step - loss: 0.4134 - acc: 0.8984 - val_loss: 0.4629 - val_acc: 0.8800\n",
      "Epoch 17/50\n",
      "10/10 [==============================] - 1s 120ms/step - loss: 0.3118 - acc: 0.9350 - val_loss: 0.4435 - val_acc: 0.8400\n",
      "Epoch 18/50\n",
      "10/10 [==============================] - 1s 121ms/step - loss: 0.2867 - acc: 0.9150 - val_loss: 0.3954 - val_acc: 0.9200\n",
      "Epoch 19/50\n",
      "10/10 [==============================] - 1s 119ms/step - loss: 0.2802 - acc: 0.9550 - val_loss: 0.3599 - val_acc: 0.9200\n",
      "Epoch 20/50\n",
      "10/10 [==============================] - 1s 115ms/step - loss: 0.3304 - acc: 0.9251 - val_loss: 0.3442 - val_acc: 0.9000\n",
      "Epoch 21/50\n",
      "10/10 [==============================] - 1s 121ms/step - loss: 0.2331 - acc: 0.9600 - val_loss: 0.3499 - val_acc: 0.8800\n",
      "Epoch 22/50\n",
      "10/10 [==============================] - 1s 120ms/step - loss: 0.2304 - acc: 0.9465 - val_loss: 0.3296 - val_acc: 0.9000\n",
      "Epoch 23/50\n",
      "10/10 [==============================] - 1s 119ms/step - loss: 0.2169 - acc: 0.9400 - val_loss: 0.3321 - val_acc: 0.8600\n",
      "Epoch 24/50\n",
      "10/10 [==============================] - 1s 118ms/step - loss: 0.2590 - acc: 0.9412 - val_loss: 0.3031 - val_acc: 0.8800\n",
      "Epoch 25/50\n",
      "10/10 [==============================] - 1s 115ms/step - loss: 0.2237 - acc: 0.9465 - val_loss: 0.2934 - val_acc: 0.8800\n",
      "Epoch 26/50\n",
      "10/10 [==============================] - 1s 120ms/step - loss: 0.1286 - acc: 0.9800 - val_loss: 0.3153 - val_acc: 0.8800\n",
      "Epoch 27/50\n",
      "10/10 [==============================] - 1s 119ms/step - loss: 0.2247 - acc: 0.9800 - val_loss: 0.2577 - val_acc: 0.9000\n",
      "Epoch 28/50\n",
      "10/10 [==============================] - 1s 121ms/step - loss: 0.1434 - acc: 0.9800 - val_loss: 0.2925 - val_acc: 0.8800\n",
      "Epoch 29/50\n",
      "10/10 [==============================] - 1s 116ms/step - loss: 0.1720 - acc: 0.9626 - val_loss: 0.2561 - val_acc: 0.9200\n",
      "Epoch 30/50\n",
      "10/10 [==============================] - 1s 122ms/step - loss: 0.1914 - acc: 0.9400 - val_loss: 0.2375 - val_acc: 0.9000\n",
      "Epoch 31/50\n",
      "10/10 [==============================] - 1s 121ms/step - loss: 0.1424 - acc: 0.9700 - val_loss: 0.2528 - val_acc: 0.9000\n",
      "Epoch 32/50\n",
      "10/10 [==============================] - 1s 123ms/step - loss: 0.1276 - acc: 0.9700 - val_loss: 0.2193 - val_acc: 0.9600\n",
      "Epoch 33/50\n",
      "10/10 [==============================] - 1s 120ms/step - loss: 0.1203 - acc: 0.9650 - val_loss: 0.2131 - val_acc: 0.9400\n",
      "Epoch 34/50\n",
      "10/10 [==============================] - 1s 121ms/step - loss: 0.1411 - acc: 0.9650 - val_loss: 0.1883 - val_acc: 0.9200\n",
      "Epoch 35/50\n",
      "10/10 [==============================] - 1s 122ms/step - loss: 0.1172 - acc: 0.9750 - val_loss: 0.2852 - val_acc: 0.8800\n",
      "Epoch 36/50\n",
      "10/10 [==============================] - 1s 121ms/step - loss: 0.1004 - acc: 0.9750 - val_loss: 0.1935 - val_acc: 0.9000\n",
      "Epoch 37/50\n",
      "10/10 [==============================] - 1s 117ms/step - loss: 0.1306 - acc: 0.9733 - val_loss: 0.1679 - val_acc: 0.9400\n",
      "Epoch 38/50\n",
      "10/10 [==============================] - 1s 121ms/step - loss: 0.0759 - acc: 0.9850 - val_loss: 0.1746 - val_acc: 0.9200\n",
      "Epoch 39/50\n",
      "10/10 [==============================] - 1s 121ms/step - loss: 0.1070 - acc: 0.9800 - val_loss: 0.1666 - val_acc: 0.9400\n",
      "Epoch 40/50\n",
      "10/10 [==============================] - 1s 117ms/step - loss: 0.0808 - acc: 0.9947 - val_loss: 0.1626 - val_acc: 0.9400\n",
      "Epoch 41/50\n",
      "10/10 [==============================] - 1s 119ms/step - loss: 0.0949 - acc: 0.9850 - val_loss: 0.1823 - val_acc: 0.9400\n",
      "Epoch 42/50\n",
      "10/10 [==============================] - 1s 120ms/step - loss: 0.0904 - acc: 0.9850 - val_loss: 0.1584 - val_acc: 0.9400\n",
      "Epoch 43/50\n",
      "10/10 [==============================] - 1s 121ms/step - loss: 0.0532 - acc: 0.9900 - val_loss: 0.1980 - val_acc: 0.9200\n",
      "Epoch 44/50\n",
      "10/10 [==============================] - 1s 121ms/step - loss: 0.0741 - acc: 0.9850 - val_loss: 0.1401 - val_acc: 0.9600\n",
      "Epoch 45/50\n",
      "10/10 [==============================] - 1s 120ms/step - loss: 0.0654 - acc: 0.9950 - val_loss: 0.1495 - val_acc: 0.9400\n",
      "Epoch 46/50\n",
      "10/10 [==============================] - 1s 122ms/step - loss: 0.1070 - acc: 0.9700 - val_loss: 0.3065 - val_acc: 0.9000\n",
      "Epoch 47/50\n",
      "10/10 [==============================] - 1s 121ms/step - loss: 0.0534 - acc: 1.0000 - val_loss: 0.1457 - val_acc: 0.9600\n",
      "Epoch 48/50\n",
      "10/10 [==============================] - 1s 123ms/step - loss: 0.0478 - acc: 0.9850 - val_loss: 0.1341 - val_acc: 0.9600\n",
      "Epoch 49/50\n",
      "10/10 [==============================] - 1s 118ms/step - loss: 0.0511 - acc: 0.9800 - val_loss: 0.1371 - val_acc: 0.9600\n",
      "Epoch 50/50\n",
      "10/10 [==============================] - 1s 122ms/step - loss: 0.0672 - acc: 0.9850 - val_loss: 0.1478 - val_acc: 0.9400\n"
     ]
    }
   ],
   "source": [
    "# train the model. The main parameter here is epochs which determines how many iterations to train for\n",
    "# \n",
    "\n",
    "history = model.fit_generator(\n",
    "    train_generator,\n",
    "    steps_per_epoch=10,\n",
    "    epochs=num_epochs,\n",
    "    validation_data=validation_generator,\n",
    "    validation_steps=1,\n",
    "    callbacks=callbacks)"
   ]
  },
  {
   "cell_type": "code",
   "execution_count": 15,
   "metadata": {},
   "outputs": [],
   "source": [
    "# save the model\n",
    "model.save(model_name)"
   ]
  },
  {
   "cell_type": "code",
   "execution_count": null,
   "metadata": {
    "scrolled": true
   },
   "outputs": [],
   "source": []
  },
  {
   "cell_type": "code",
   "execution_count": 16,
   "metadata": {},
   "outputs": [
    {
     "data": {
      "image/png": "[encoded data removed]",
      "text/plain": [
       "<Figure size 432x288 with 1 Axes>"
      ]
     },
     "metadata": {
      "needs_background": "light"
     },
     "output_type": "display_data"
    },
    {
     "data": {
      "image/png": "[encoded data removed]",
      "text/plain": [
       "<Figure size 432x288 with 1 Axes>"
      ]
     },
     "metadata": {
      "needs_background": "light"
     },
     "output_type": "display_data"
    }
   ],
   "source": [
    "# plot the train / validation accuracy and losses if we're in interactive mode\n",
    "\n",
    "if interactive == 1:\n",
    "    import matplotlib.pyplot as plt\n",
    "    %matplotlib inline  \n",
    "\n",
    "    acc = history.history['acc']\n",
    "    val_acc = history.history['val_acc']\n",
    "\n",
    "    loss = history.history['loss']\n",
    "    val_loss = history.history['val_loss']\n",
    "\n",
    "    epochs = range(len(acc))\n",
    "\n",
    "    plt.plot(epochs, acc, 'bo', label='Training accuracy')\n",
    "    plt.plot(epochs, val_acc, 'r', label='Validation accuracy')\n",
    "    plt.title('Training and validation accuracy')\n",
    "    plt.legend()\n",
    "\n",
    "    plt.figure()\n",
    "\n",
    "    plt.plot(epochs, loss, 'bo', label='Training loss')\n",
    "    plt.plot(epochs, val_loss, 'r', label='Validation loss')\n",
    "    plt.title('Training and validation loss')\n",
    "    plt.legend()\n",
    "\n",
    "    plt.show()"
   ]
  },
  {
   "cell_type": "code",
   "execution_count": 18,
   "metadata": {},
   "outputs": [],
   "source": [
    "\n",
    "# load a model to do testing with\n",
    "from tensorflow.keras.models import load_model\n",
    "model = load_model(model_name)"
   ]
  },
  {
   "cell_type": "code",
   "execution_count": 20,
   "metadata": {},
   "outputs": [
    {
     "name": "stdout",
     "output_type": "stream",
     "text": [
      "Found 86 images belonging to 8 classes.\n",
      "WARNING:tensorflow:From <ipython-input-20-5ad6397f1622>:16: Model.evaluate_generator (from tensorflow.python.keras.engine.training) is deprecated and will be removed in a future version.\n",
      "Instructions for updating:\n",
      "Please use Model.evaluate, which supports generators.\n",
      "WARNING:tensorflow:sample_weight modes were coerced from\n",
      "  ...\n",
      "    to  \n",
      "  ['...']\n",
      "Test set accuracy: 0.9767442\n"
     ]
    }
   ],
   "source": [
    "# test on 100 images of the test set\n",
    "# set batch_size to the number of images in the test set if you want to test them all\n",
    "\n",
    "from tensorflow.keras.preprocessing.image import ImageDataGenerator\n",
    "test_datagen = ImageDataGenerator(rescale=1./255)\n",
    "\n",
    "# where to get the images from\n",
    "tdir=test_dir\n",
    "\n",
    "test_generator = test_datagen.flow_from_directory(\n",
    "    tdir,\n",
    "    target_size=target_size,\n",
    "    batch_size=100,\n",
    "    class_mode='categorical')\n",
    "\n",
    "test_loss, test_acc = model.evaluate_generator(test_generator, steps=1)\n",
    "print('Test set accuracy:', test_acc)"
   ]
  },
  {
   "cell_type": "code",
   "execution_count": 22,
   "metadata": {},
   "outputs": [
    {
     "name": "stdout",
     "output_type": "stream",
     "text": [
      "{'ER': 0, 'PM': 1, 'cytoskeleton': 2, 'golgi': 3, 'lysosome': 4, 'mitochondria': 5, 'nucleus': 6, 'peroxisome': 7}\n",
      "{'PM', 'golgi', 'ER', 'nucleus', 'lysosome', 'peroxisome', 'mitochondria', 'cytoskeleton'}\n",
      "#####  Predicting images in:PM\n",
      "#####  Predicting images in:golgi\n",
      "#####  Predicting images in:ER\n",
      "#####  Predicting images in:nucleus\n",
      "#####  Predicting images in:lysosome\n",
      "#####  Predicting images in:peroxisome\n",
      "#####  Predicting images in:mitochondria\n",
      "#####  Predicting images in:cytoskeleton\n",
      "{'ER': 0, 'PM': 1, 'cytoskeleton': 2, 'golgi': 3, 'lysosome': 4, 'mitochondria': 5, 'nucleus': 6, 'peroxisome': 7}\n",
      "\n",
      "\n",
      "                 0    1     2     3    4     5     6    7\n",
      "ER            13.0  0.0   1.0   0.0  0.0   0.0   0.0  0.0\n",
      "PM             0.0  3.0   0.0   0.0  0.0   0.0   0.0  0.0\n",
      "cytoskeleton   0.0  0.0  16.0   0.0  0.0   0.0   0.0  0.0\n",
      "golgi          0.0  0.0   0.0  12.0  0.0   0.0   0.0  0.0\n",
      "lysosome       0.0  0.0   0.0   0.0  4.0   0.0   0.0  0.0\n",
      "mitochondria   0.0  0.0   0.0   0.0  0.0  12.0   0.0  0.0\n",
      "nucleus        0.0  0.0   0.0   0.0  0.0   0.0  15.0  0.0\n",
      "peroxisome     0.0  0.0   0.0   0.0  0.0   1.0   0.0  9.0\n"
     ]
    }
   ],
   "source": [
    "# do a misclassification table for a directory\n",
    "\n",
    "from tensorflow.keras.preprocessing import image\n",
    "import PIL\n",
    "import numpy as np\n",
    "\n",
    "tdir = test_dir\n",
    "\n",
    "dirs = os.listdir(path=tdir)\n",
    "\n",
    "class_labels = test_generator.class_indices\n",
    "rev = {val:key for key,val in class_labels.items()}\n",
    "\n",
    "print(class_labels)\n",
    "\n",
    "dirs = {key for key,val in class_labels.items()}\n",
    "print(dirs)\n",
    "\n",
    "predtable = np.zeros((nclasses,nclasses))\n",
    "\n",
    "for dir in dirs:\n",
    "    predictdir = os.path.join(tdir, dir)\n",
    "    print(\"#####  Predicting images in:\"+dir)\n",
    "    imgs = os.listdir(predictdir)\n",
    "    #print(imgs)\n",
    "    # for large numbers of images it would probably be more efficient to predict all at the same time here\n",
    "    actual = class_labels[dir]\n",
    "    for imgname in imgs: \n",
    "        #print(imgname)\n",
    "        img = image.load_img(os.path.join(predictdir,imgname), target_size=(dx, dy))\n",
    "    \n",
    "        x = image.img_to_array(img)\n",
    "        x = np.expand_dims(x, axis=0)\n",
    "        x = x / 255\n",
    "        mpx = model.predict(x)\n",
    "        pred = np.argmax(mpx)\n",
    "        prob = mpx[0][pred]\n",
    "        \n",
    "        predtable[actual,pred] = predtable[actual,pred]+1\n",
    "        #print(\"  \",imgname,\":  \",rev[pred], \"(\",prob,\")\")\n",
    "        \n",
    "#print(predtable)\n",
    "\n",
    "print(class_labels)\n",
    "print(\"\\n\")\n",
    "import pandas\n",
    "df = pandas.DataFrame(predtable, index=class_labels)\n",
    "print(df)\n"
   ]
  },
  {
   "cell_type": "code",
   "execution_count": null,
   "metadata": {
    "scrolled": true
   },
   "outputs": [],
   "source": []
  },
  {
   "cell_type": "code",
   "execution_count": null,
   "metadata": {},
   "outputs": [],
   "source": [
    "\n",
    "        "
   ]
  },
  {
   "cell_type": "code",
   "execution_count": null,
   "metadata": {},
   "outputs": [],
   "source": [
    "# predict on another directory of image if predictdir has been set\n",
    "\n",
    "predictdir = test_dir+\"/BroadReticular/\"\n",
    "\n",
    "from keras.preprocessing import image\n",
    "import PIL\n",
    "import numpy as np\n",
    "\n",
    "if predictdir != '':\n",
    "    print(\"Predicting on images in directory \"+predictdir)\n",
    "\n",
    "    dir = os.listdir(predictdir)\n",
    "\n",
    "    class_labels = train_generator.class_indices\n",
    "    rev = {val:key for key,val in class_labels.items()}\n",
    "\n",
    "    # for large numbers of images it would probably be more efficient to predict all at the same time here\n",
    "    for imgname in dir: \n",
    "        img = image.load_img(predictdir+imgname, target_size=(dx, dy))\n",
    "    \n",
    "        x = image.img_to_array(img)\n",
    "        x = np.expand_dims(x, axis=0)\n",
    "        x = x / 255\n",
    "        mpx = model.predict(x)\n",
    "        pred = np.argmax(mpx)\n",
    "        prob = mpx[0][pred]\n",
    "        print(imgname,\":  \",rev[pred], \"(\",prob,\")\")\n"
   ]
  },
  {
   "cell_type": "code",
   "execution_count": null,
   "metadata": {},
   "outputs": [],
   "source": []
  },
  {
   "cell_type": "code",
   "execution_count": null,
   "metadata": {},
   "outputs": [],
   "source": []
  },
  {
   "cell_type": "code",
   "execution_count": null,
   "metadata": {},
   "outputs": [],
   "source": []
  },
  {
   "cell_type": "code",
   "execution_count": null,
   "metadata": {},
   "outputs": [],
   "source": []
  },
  {
   "cell_type": "code",
   "execution_count": null,
   "metadata": {},
   "outputs": [],
   "source": []
  },
  {
   "cell_type": "code",
   "execution_count": null,
   "metadata": {},
   "outputs": [],
   "source": []
  }
 ],
 "metadata": {
  "kernelspec": {
   "display_name": "Python 3",
   "language": "python",
   "name": "python3"
  },
  "language_info": {
   "codemirror_mode": {
    "name": "ipython",
    "version": 3
   },
   "file_extension": ".py",
   "mimetype": "text/x-python",
   "name": "python",
   "nbconvert_exporter": "python",
   "pygments_lexer": "ipython3",
   "version": "3.6.10"
  }
 },
 "nbformat": 4,
 "nbformat_minor": 2
}
